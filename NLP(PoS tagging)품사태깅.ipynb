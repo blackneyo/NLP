{
 "cells": [
  {
   "cell_type": "markdown",
   "id": "c1d3c4b8",
   "metadata": {},
   "source": [
    "# 양방향 RNN을 이용한 품사 태깅\n",
    "\n",
    "PyTorch 시퀸스 레이블링의 대표적 테스크 품사 태깅 (PoS tagging)"
   ]
  },
  {
   "cell_type": "code",
   "execution_count": 7,
   "id": "b4b758c6",
   "metadata": {},
   "outputs": [],
   "source": [
    "import torch\n",
    "import torch.nn as nn\n",
    "import torch.nn.functional as F\n",
    "import torch.optim as optim\n",
    "from torchtext.legacy import data, datasets\n",
    "import time\n",
    "import random"
   ]
  },
  {
   "cell_type": "code",
   "execution_count": 8,
   "id": "48be77d6",
   "metadata": {},
   "outputs": [
    {
     "data": {
      "text/plain": [
       "<torch._C.Generator at 0x1a9fff5a7d0>"
      ]
     },
     "execution_count": 8,
     "metadata": {},
     "output_type": "execute_result"
    }
   ],
   "source": [
    "# 랜덤 시드 고정\n",
    "# 랜덤 시드 1234보다 3407이 정확도 면에서 훨씬 좋다\n",
    "SEED = 3407\n",
    "random.seed(SEED)\n",
    "torch.manual_seed(SEED)"
   ]
  },
  {
   "cell_type": "code",
   "execution_count": 9,
   "id": "4acfc1d6",
   "metadata": {},
   "outputs": [],
   "source": [
    "device = torch.device('cuda' if torch.cuda.is_available() else 'cpu')"
   ]
  },
  {
   "cell_type": "markdown",
   "id": "2cb30cfa",
   "metadata": {},
   "source": [
    "# 1. 필드 정의하기\n",
    "\n",
    "총 3개의 필드 정의"
   ]
  },
  {
   "cell_type": "code",
   "execution_count": 11,
   "id": "7cd509cf",
   "metadata": {},
   "outputs": [],
   "source": [
    "TEXT = data.Field(lower = True)\n",
    "UD_TAGS = data.Field(unk_token = None)\n",
    "PTB_TAGS = data.Field(unk_token = None)\n",
    "\n",
    "fields = ((\"text\", TEXT), (\"udtags\", UD_TAGS), (\"ptbbags\", PTB_TAGS))"
   ]
  },
  {
   "cell_type": "markdown",
   "id": "0c30d88a",
   "metadata": {},
   "source": [
    "# 2. 데이터셋 만들기\n",
    "\n",
    "1. 훈련 데이터\n",
    "\n",
    "2. 검증 데이터\n",
    "\n",
    "3. 테스트 데이터"
   ]
  },
  {
   "cell_type": "code",
   "execution_count": 12,
   "id": "e01b9e7d",
   "metadata": {},
   "outputs": [
    {
     "name": "stdout",
     "output_type": "stream",
     "text": [
      "downloading en-ud-v2.zip\n"
     ]
    },
    {
     "name": "stderr",
     "output_type": "stream",
     "text": [
      "100%|██████████| 688k/688k [00:01<00:00, 562kB/s] \n"
     ]
    },
    {
     "name": "stdout",
     "output_type": "stream",
     "text": [
      "extracting\n"
     ]
    }
   ],
   "source": [
    "train_data, valid_data, test_data = datasets.UDPOS.splits(fields)"
   ]
  },
  {
   "cell_type": "code",
   "execution_count": null,
   "id": "cde49333",
   "metadata": {},
   "outputs": [],
   "source": []
  }
 ],
 "metadata": {
  "kernelspec": {
   "display_name": "Python 3 (ipykernel)",
   "language": "python",
   "name": "python3"
  },
  "language_info": {
   "codemirror_mode": {
    "name": "ipython",
    "version": 3
   },
   "file_extension": ".py",
   "mimetype": "text/x-python",
   "name": "python",
   "nbconvert_exporter": "python",
   "pygments_lexer": "ipython3",
   "version": "3.8.13"
  }
 },
 "nbformat": 4,
 "nbformat_minor": 5
}
