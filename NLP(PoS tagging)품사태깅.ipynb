{
 "cells": [
  {
   "cell_type": "markdown",
   "id": "7cc173fc",
   "metadata": {},
   "source": [
    "# 양방향 RNN을 이용한 품사 태깅\n",
    "\n",
    "PyTorch 시퀸스 레이블링의 대표적 테스크 품사 태깅 (PoS tagging)"
   ]
  },
  {
   "cell_type": "code",
   "execution_count": 7,
   "id": "cd3c9719",
   "metadata": {},
   "outputs": [],
   "source": [
    "import torch\n",
    "import torch.nn as nn\n",
    "import torch.nn.functional as F\n",
    "import torch.optim as optim\n",
    "from torchtext.legacy import data, datasets\n",
    "import time\n",
    "import random"
   ]
  },
  {
   "cell_type": "code",
   "execution_count": 8,
   "id": "7dacaed0",
   "metadata": {},
   "outputs": [
    {
     "data": {
      "text/plain": [
       "<torch._C.Generator at 0x1a9fff5a7d0>"
      ]
     },
     "execution_count": 8,
     "metadata": {},
     "output_type": "execute_result"
    }
   ],
   "source": [
    "# 랜덤 시드 고정\n",
    "# 랜덤 시드 1234보다 3407이 정확도 면에서 훨씬 좋다\n",
    "SEED = 3407\n",
    "random.seed(SEED)\n",
    "torch.manual_seed(SEED)"
   ]
  },
  {
   "cell_type": "code",
   "execution_count": 9,
   "id": "ed7f26dd",
   "metadata": {},
   "outputs": [],
   "source": [
    "device = torch.device('cuda' if torch.cuda.is_available() else 'cpu')"
   ]
  },
  {
   "cell_type": "markdown",
   "id": "c4853b13",
   "metadata": {},
   "source": [
    "# 1. 필드 정의하기\n",
    "\n",
    "총 3개의 필드 정의"
   ]
  },
  {
   "cell_type": "code",
   "execution_count": 18,
   "id": "ac52143a",
   "metadata": {},
   "outputs": [],
   "source": [
    "TEXT = data.Field(lower = True)\n",
    "UD_TAGS = data.Field(unk_token = None)\n",
    "PTB_TAGS = data.Field(unk_token = None)\n",
    "\n",
    "fields = ((\"text\", TEXT), (\"udtags\", UD_TAGS), (\"ptbtags\", PTB_TAGS))"
   ]
  },
  {
   "cell_type": "markdown",
   "id": "8a9a7007",
   "metadata": {},
   "source": [
    "# 2. 데이터셋 만들기\n",
    "\n",
    "1. 훈련 데이터\n",
    "\n",
    "2. 검증 데이터\n",
    "\n",
    "3. 테스트 데이터"
   ]
  },
  {
   "cell_type": "code",
   "execution_count": 19,
   "id": "7bc4b524",
   "metadata": {},
   "outputs": [],
   "source": [
    "train_data, valid_data, test_data = datasets.UDPOS.splits(fields)"
   ]
  },
  {
   "cell_type": "code",
   "execution_count": 20,
   "id": "623310a8",
   "metadata": {},
   "outputs": [
    {
     "name": "stdout",
     "output_type": "stream",
     "text": [
      "훈련 샘플의 개수 : 12543\n",
      "검증 샘플의 개수 : 2002\n",
      "테스트 샘플의 개수 : 2077\n"
     ]
    }
   ],
   "source": [
    "print(f\"훈련 샘플의 개수 : {len(train_data)}\")\n",
    "print(f\"검증 샘플의 개수 : {len(valid_data)}\")\n",
    "print(f\"테스트 샘플의 개수 : {len(test_data)}\")"
   ]
  },
  {
   "cell_type": "code",
   "execution_count": 21,
   "id": "a66b9d67",
   "metadata": {},
   "outputs": [
    {
     "name": "stdout",
     "output_type": "stream",
     "text": [
      "{'text': <torchtext.legacy.data.field.Field object at 0x000001A988A0BAF0>, 'udtags': <torchtext.legacy.data.field.Field object at 0x000001A988A0B970>, 'ptbtags': <torchtext.legacy.data.field.Field object at 0x000001A988A0B0A0>}\n"
     ]
    }
   ],
   "source": [
    "# 훈련 데이터의 3개의 필드 확인\n",
    "print(train_data.fields)"
   ]
  },
  {
   "cell_type": "code",
   "execution_count": 22,
   "id": "ec04b427",
   "metadata": {},
   "outputs": [
    {
     "name": "stdout",
     "output_type": "stream",
     "text": [
      "['al', '-', 'zaman', ':', 'american', 'forces', 'killed', 'shaikh', 'abdullah', 'al', '-', 'ani', ',', 'the', 'preacher', 'at', 'the', 'mosque', 'in', 'the', 'town', 'of', 'qaim', ',', 'near', 'the', 'syrian', 'border', '.']\n"
     ]
    }
   ],
   "source": [
    "# 첫번째 훈련 샘플의 text 필드\n",
    "print(vars(train_data.examples[0])['text'])"
   ]
  },
  {
   "cell_type": "code",
   "execution_count": 23,
   "id": "16d9a449",
   "metadata": {},
   "outputs": [
    {
     "name": "stdout",
     "output_type": "stream",
     "text": [
      "['PROPN', 'PUNCT', 'PROPN', 'PUNCT', 'ADJ', 'NOUN', 'VERB', 'PROPN', 'PROPN', 'PROPN', 'PUNCT', 'PROPN', 'PUNCT', 'DET', 'NOUN', 'ADP', 'DET', 'NOUN', 'ADP', 'DET', 'NOUN', 'ADP', 'PROPN', 'PUNCT', 'ADP', 'DET', 'ADJ', 'NOUN', 'PUNCT']\n"
     ]
    }
   ],
   "source": [
    "# 첫번째 훈련 샘플의 udtags 필드\n",
    "print(vars(train_data.examples[0])['udtags'])"
   ]
  },
  {
   "cell_type": "code",
   "execution_count": 24,
   "id": "a134af84",
   "metadata": {},
   "outputs": [
    {
     "name": "stdout",
     "output_type": "stream",
     "text": [
      "['NNP', 'HYPH', 'NNP', ':', 'JJ', 'NNS', 'VBD', 'NNP', 'NNP', 'NNP', 'HYPH', 'NNP', ',', 'DT', 'NN', 'IN', 'DT', 'NN', 'IN', 'DT', 'NN', 'IN', 'NNP', ',', 'IN', 'DT', 'JJ', 'NN', '.']\n"
     ]
    }
   ],
   "source": [
    "# 첫번째 훈련 샘플의 ptbdtags 필드\n",
    "print(vars(train_data.examples[0])['ptbtags'])"
   ]
  },
  {
   "cell_type": "markdown",
   "id": "ab153a94",
   "metadata": {},
   "source": [
    "# 3. 단어 집합 (vocabulary) 만들기\n",
    "\n",
    "단어 집합 생성시 사전 훈련된 워드 임베딩 GloVe 사용"
   ]
  },
  {
   "cell_type": "code",
   "execution_count": 25,
   "id": "50c396b6",
   "metadata": {},
   "outputs": [
    {
     "name": "stderr",
     "output_type": "stream",
     "text": [
      ".vector_cache\\glove.6B.zip: 862MB [09:09, 1.57MB/s]                               \n",
      "100%|█████████▉| 399999/400000 [00:57<00:00, 6924.27it/s]\n"
     ]
    }
   ],
   "source": [
    "# 최소 허용 빈도\n",
    "MIN_FREQ = 5\n",
    "\n",
    "# 사전 훈련된 워드 임베딩 GloVe 다운로드\n",
    "TEXT.build_vocab(train_data, min_freq = MIN_FREQ, vectors = \"glove.6B.100d\")\n",
    "UD_TAGS.build_vocab(train_data)\n",
    "PTB_TAGS.build_vocab(train_data)"
   ]
  },
  {
   "cell_type": "code",
   "execution_count": 26,
   "id": "bd812e76",
   "metadata": {},
   "outputs": [
    {
     "name": "stdout",
     "output_type": "stream",
     "text": [
      "[('the', 9076), ('.', 8640), (',', 7021), ('to', 5137), ('and', 5002), ('a', 3782), ('of', 3622), ('i', 3379), ('in', 3112), ('is', 2239), ('you', 2156), ('that', 2036), ('it', 1850), ('for', 1842), ('-', 1426), ('have', 1359), ('\"', 1296), ('on', 1273), ('was', 1244), ('with', 1216)]\n"
     ]
    }
   ],
   "source": [
    "# 상위 빈도수 20개 단어\n",
    "print(TEXT.vocab.freqs.most_common(20))"
   ]
  },
  {
   "cell_type": "markdown",
   "id": "1d71cedd",
   "metadata": {},
   "source": [
    "영어에서는 (다른 여러 훈련 데이터에서도) 보통 the가 빈도수가 가장 많음\n",
    "\n",
    "토치텍스트는 기본적으로 빈도수가 가장 높은 단어부터 작은 숫자를 부여\n",
    "\n",
    "<unk>는 0번, <pad>는 1번으로 자동으로 부여되므로 제외"
   ]
  },
  {
   "cell_type": "code",
   "execution_count": 27,
   "id": "f0b3daf0",
   "metadata": {},
   "outputs": [
    {
     "name": "stdout",
     "output_type": "stream",
     "text": [
      "['<unk>', '<pad>', 'the', '.', ',', 'to', 'and', 'a', 'of', 'i']\n"
     ]
    }
   ],
   "source": [
    "# 상위 정수 인덱스 단어 10개 출력\n",
    "print(TEXT.vocab.itos[:10])"
   ]
  },
  {
   "cell_type": "code",
   "execution_count": null,
   "id": "506df3c8",
   "metadata": {},
   "outputs": [],
   "source": []
  }
 ],
 "metadata": {
  "kernelspec": {
   "display_name": "Python 3 (ipykernel)",
   "language": "python",
   "name": "python3"
  },
  "language_info": {
   "codemirror_mode": {
    "name": "ipython",
    "version": 3
   },
   "file_extension": ".py",
   "mimetype": "text/x-python",
   "name": "python",
   "nbconvert_exporter": "python",
   "pygments_lexer": "ipython3",
   "version": "3.8.13"
  }
 },
 "nbformat": 4,
 "nbformat_minor": 5
}
