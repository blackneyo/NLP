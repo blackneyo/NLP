{
 "cells": [
  {
   "cell_type": "markdown",
   "id": "aa5ecbd3",
   "metadata": {},
   "source": [
    "IMDB 리뷰 감성 분류 (IMDB Movice Review Sentiment Analysis)\n",
    "\n",
    "해당 리뷰가 긍정인 경우 1 부정인 경우 0\n",
    "\n",
    "훈련 데이터 : 테스트 데이터 = 50 : 50"
   ]
  },
  {
   "cell_type": "markdown",
   "id": "685c9157",
   "metadata": {},
   "source": [
    "1. 세팅 하기"
   ]
  },
  {
   "cell_type": "code",
   "execution_count": 1,
   "id": "212b3e6f",
   "metadata": {},
   "outputs": [],
   "source": [
    "import os\n",
    "import torch\n",
    "import torch.nn as nn\n",
    "import torch.nn.functional as F\n",
    "from torchtext.legacy import data, datasets\n",
    "import random"
   ]
  },
  {
   "cell_type": "code",
   "execution_count": 2,
   "id": "182359f0",
   "metadata": {},
   "outputs": [
    {
     "data": {
      "text/plain": [
       "<torch._C.Generator at 0x14c41e667f0>"
      ]
     },
     "execution_count": 2,
     "metadata": {},
     "output_type": "execute_result"
    }
   ],
   "source": [
    "# 랜덤 시드 고정\n",
    "SEED = 5\n",
    "random.seed(SEED)\n",
    "torch.manual_seed(SEED)"
   ]
  },
  {
   "cell_type": "code",
   "execution_count": 3,
   "id": "ca95b082",
   "metadata": {},
   "outputs": [],
   "source": [
    "# 하이퍼 파라미터 변수로 정의\n",
    "BATCH_SIZE = 64\n",
    "lr = 0.001\n",
    "EPOCHS = 10"
   ]
  },
  {
   "cell_type": "code",
   "execution_count": 4,
   "id": "09d47d24",
   "metadata": {},
   "outputs": [
    {
     "name": "stdout",
     "output_type": "stream",
     "text": [
      "cpu와 cuda중 다음 기기로 학습함: cpu\n"
     ]
    }
   ],
   "source": [
    "USE_CUDA = torch.cuda.is_available()\n",
    "DEVICE = torch.device(\"cuda\" if USE_CUDA else \"cpu\")\n",
    "print(\"cpu와 cuda중 다음 기기로 학습함:\", DEVICE)"
   ]
  },
  {
   "cell_type": "markdown",
   "id": "8029efb1",
   "metadata": {},
   "source": [
    "2. 토치텍스트를 이용한 전처리\n",
    "\n",
    "1) 데이터 로드하기 : torchtext.data"
   ]
  },
  {
   "cell_type": "code",
   "execution_count": 7,
   "id": "ccca62f0",
   "metadata": {},
   "outputs": [],
   "source": [
    "TEXT = data.Field(sequential=True, batch_first=True, lower=True)\n",
    "LABEL = data.Field(sequential=False, batch_first=True)"
   ]
  },
  {
   "cell_type": "markdown",
   "id": "41f3cc86",
   "metadata": {},
   "source": [
    "2) 데이터 로드 및 분할하기 : torchtext.datasets\n",
    "\n",
    "데이터 다운 받는 동시에 훈련 데이터와 테스트 데이터를 분할\n",
    "\n",
    "각각 trainset, testset에 저장"
   ]
  },
  {
   "cell_type": "code",
   "execution_count": 8,
   "id": "cea154bc",
   "metadata": {},
   "outputs": [],
   "source": [
    "# 훈련 데이터 : 테스트 데이터 = 8 : 2\n",
    "trainset, testset = datasets.IMDB.splits(TEXT, LABEL)"
   ]
  },
  {
   "cell_type": "code",
   "execution_count": 9,
   "id": "0ef44bcb",
   "metadata": {},
   "outputs": [
    {
     "name": "stdout",
     "output_type": "stream",
     "text": [
      "trainset의 구성 요소 출력 :  {'text': <torchtext.legacy.data.field.Field object at 0x0000014C451D3460>, 'label': <torchtext.legacy.data.field.Field object at 0x0000014C451D3EB0>}\n"
     ]
    }
   ],
   "source": [
    "print('trainset의 구성 요소 출력 : ', trainset.fields)"
   ]
  },
  {
   "cell_type": "code",
   "execution_count": 10,
   "id": "0bf45d65",
   "metadata": {},
   "outputs": [
    {
     "name": "stdout",
     "output_type": "stream",
     "text": [
      "testset의 구성 요소 출력 : {'text': <torchtext.legacy.data.field.Field object at 0x0000014C451D3460>, 'label': <torchtext.legacy.data.field.Field object at 0x0000014C451D3EB0>}\n"
     ]
    }
   ],
   "source": [
    "print('testset의 구성 요소 출력 :', testset.fields)"
   ]
  },
  {
   "cell_type": "code",
   "execution_count": 11,
   "id": "a968eb18",
   "metadata": {},
   "outputs": [
    {
     "name": "stdout",
     "output_type": "stream",
     "text": [
      "{'text': ['bromwell', 'high', 'is', 'a', 'cartoon', 'comedy.', 'it', 'ran', 'at', 'the', 'same', 'time', 'as', 'some', 'other', 'programs', 'about', 'school', 'life,', 'such', 'as', '\"teachers\".', 'my', '35', 'years', 'in', 'the', 'teaching', 'profession', 'lead', 'me', 'to', 'believe', 'that', 'bromwell', \"high's\", 'satire', 'is', 'much', 'closer', 'to', 'reality', 'than', 'is', '\"teachers\".', 'the', 'scramble', 'to', 'survive', 'financially,', 'the', 'insightful', 'students', 'who', 'can', 'see', 'right', 'through', 'their', 'pathetic', \"teachers'\", 'pomp,', 'the', 'pettiness', 'of', 'the', 'whole', 'situation,', 'all', 'remind', 'me', 'of', 'the', 'schools', 'i', 'knew', 'and', 'their', 'students.', 'when', 'i', 'saw', 'the', 'episode', 'in', 'which', 'a', 'student', 'repeatedly', 'tried', 'to', 'burn', 'down', 'the', 'school,', 'i', 'immediately', 'recalled', '.........', 'at', '..........', 'high.', 'a', 'classic', 'line:', 'inspector:', \"i'm\", 'here', 'to', 'sack', 'one', 'of', 'your', 'teachers.', 'student:', 'welcome', 'to', 'bromwell', 'high.', 'i', 'expect', 'that', 'many', 'adults', 'of', 'my', 'age', 'think', 'that', 'bromwell', 'high', 'is', 'far', 'fetched.', 'what', 'a', 'pity', 'that', 'it', \"isn't!\"], 'label': 'pos'}\n"
     ]
    }
   ],
   "source": [
    "print(vars(trainset[0]))"
   ]
  },
  {
   "cell_type": "code",
   "execution_count": null,
   "id": "4394f176",
   "metadata": {},
   "outputs": [],
   "source": []
  }
 ],
 "metadata": {
  "kernelspec": {
   "display_name": "Python 3 (ipykernel)",
   "language": "python",
   "name": "python3"
  },
  "language_info": {
   "codemirror_mode": {
    "name": "ipython",
    "version": 3
   },
   "file_extension": ".py",
   "mimetype": "text/x-python",
   "name": "python",
   "nbconvert_exporter": "python",
   "pygments_lexer": "ipython3",
   "version": "3.8.13"
  }
 },
 "nbformat": 4,
 "nbformat_minor": 5
}
