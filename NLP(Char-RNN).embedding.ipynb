{
 "cells": [
  {
   "cell_type": "code",
   "execution_count": 1,
   "id": "621f3233",
   "metadata": {},
   "outputs": [],
   "source": [
    "import torch\n",
    "import torch.nn as nn\n",
    "import torch.optim as optim"
   ]
  },
  {
   "cell_type": "code",
   "execution_count": 2,
   "id": "dcdbdde2",
   "metadata": {},
   "outputs": [],
   "source": [
    "sentence = \"Repeat is the best medicine for memory\".split()"
   ]
  },
  {
   "cell_type": "code",
   "execution_count": 3,
   "id": "96f6bfc5",
   "metadata": {},
   "outputs": [
    {
     "name": "stdout",
     "output_type": "stream",
     "text": [
      "['the', 'best', 'is', 'for', 'memory', 'medicine', 'Repeat']\n"
     ]
    }
   ],
   "source": [
    "# 단어장(vocabulary) 만들기\n",
    "vocab = list(set(sentence))\n",
    "print(vocab)"
   ]
  },
  {
   "cell_type": "code",
   "execution_count": 4,
   "id": "5a698481",
   "metadata": {},
   "outputs": [],
   "source": [
    "# 단어장의 단어에 고유한 정수 인덱스 부여 // 모르는 단어 의미하는 UNK 토큰 추가\n",
    "word2index = {tkn: i for i, tkn in enumerate(vocab, 1)}  # 단어에 고유한 정수 부여\n",
    "word2index['<unk>']=0"
   ]
  },
  {
   "cell_type": "code",
   "execution_count": 5,
   "id": "10253ad1",
   "metadata": {},
   "outputs": [
    {
     "name": "stdout",
     "output_type": "stream",
     "text": [
      "{'the': 1, 'best': 2, 'is': 3, 'for': 4, 'memory': 5, 'medicine': 6, 'Repeat': 7, '<unk>': 0}\n"
     ]
    }
   ],
   "source": [
    "print(word2index)"
   ]
  },
  {
   "cell_type": "code",
   "execution_count": 6,
   "id": "1d5fb0c0",
   "metadata": {},
   "outputs": [
    {
     "name": "stdout",
     "output_type": "stream",
     "text": [
      "5\n"
     ]
    }
   ],
   "source": [
    "print(word2index['memory'])"
   ]
  },
  {
   "cell_type": "code",
   "execution_count": 7,
   "id": "5fa46d24",
   "metadata": {},
   "outputs": [
    {
     "name": "stdout",
     "output_type": "stream",
     "text": [
      "{1: 'the', 2: 'best', 3: 'is', 4: 'for', 5: 'memory', 6: 'medicine', 7: 'Repeat', 0: '<unk>'}\n"
     ]
    }
   ],
   "source": [
    "# 수치화된 데이터를 단어로 바꾸기 위한 사전\n",
    "index2word = {v: k for k, v in word2index.items()}\n",
    "print(index2word)"
   ]
  },
  {
   "cell_type": "code",
   "execution_count": 8,
   "id": "be7059c8",
   "metadata": {},
   "outputs": [
    {
     "name": "stdout",
     "output_type": "stream",
     "text": [
      "best\n"
     ]
    }
   ],
   "source": [
    "print(index2word[2])"
   ]
  },
  {
   "cell_type": "code",
   "execution_count": 9,
   "id": "2220f0bc",
   "metadata": {},
   "outputs": [],
   "source": [
    "# 정수 2 와 맵핑되는 단어는 Repeat\n",
    "# 데이터의 각 단어를 정수로 인코딩하는 동시에, 입력 데이터와 레이블 데이터를 만드는 build_data라는 함수 생성\n",
    "\n",
    "def build_data(sentence, word2index):\n",
    "    encoded = [word2index[token] for token in sentence] # 각 문자를 정수로 변환. \n",
    "    input_seq, label_seq = encoded[:-1], encoded[1:] # 입력 시퀀스와 레이블 시퀀스를 분리\n",
    "    input_seq = torch.LongTensor(input_seq).unsqueeze(0) # 배치 차원 추가\n",
    "    label_seq = torch.LongTensor(label_seq).unsqueeze(0) # 배치 차원 추가\n",
    "    return input_seq, label_seq"
   ]
  },
  {
   "cell_type": "code",
   "execution_count": 10,
   "id": "e285f027",
   "metadata": {},
   "outputs": [
    {
     "name": "stdout",
     "output_type": "stream",
     "text": [
      "tensor([[7, 3, 1, 2, 6, 4]])\n",
      "tensor([[3, 1, 2, 6, 4, 5]])\n"
     ]
    }
   ],
   "source": [
    "X, Y = build_data(sentence, word2index)\n",
    "print(X)\n",
    "print(Y)"
   ]
  },
  {
   "cell_type": "code",
   "execution_count": 11,
   "id": "91aa2baf",
   "metadata": {},
   "outputs": [],
   "source": [
    "# 모델 구현\n",
    "# 이전 모델들과는 임베딩 층을 추가 함으로써 차별점을 둠\n",
    "# 임베딩 층은 크게 두 가지 인자를 받는데 첫번째 인자는 단어장의 크기, 두번째 인자는 임베딩 백터의 차원\n",
    "\n",
    "\n",
    "class Net(nn.Module):\n",
    "    def __init__(self, vocab_size, input_size, hidden_size, batch_first=True):\n",
    "        super(Net, self).__init__()\n",
    "        self.embedding_layer = nn.Embedding(num_embeddings=vocab_size, # 워드 임베딩\n",
    "                                           embedding_dim=input_size)\n",
    "        self.rnn_layer = nn.RNN(input_size, hidden_size, # 입력 차원, 은닉 상태의 크기 정의\n",
    "                               batch_first=batch_first)\n",
    "        self.linear = nn.Linear(hidden_size, vocab_size) #출력은 원-핫 벡터 크기를 가져야 함 // 또는 집합 크기만큼 가져야함\n",
    "        \n",
    "    def forward(self, x):\n",
    "        # 1. 임베딩 층\n",
    "        # 크기 변화 : (배치 크기, 시퀸스 길이) => (배치 크기, 시퀸스 길이, 임베딩 차원)\n",
    "        output = self.embedding_layer(x)\n",
    "        # 2. RNN 층\n",
    "        # 크기 변화 : (배치 큭, 시퀸스 길이, 임베딩 차원)\n",
    "        # => output (배치 크기, 시퀸스 길이, 은닉층 크기), hidden (1, 배치 크기, 은닉층 크기)\n",
    "        output, hidden = self.rnn_layer(output)\n",
    "        # 3. 최종 출력층\n",
    "        # 크기 변화 : (배치 크기, 시퀸스 길이, 은닉층 크기) => (배치 크기, 시퀸스 길이, 단어장 크기)\n",
    "        output = self.linear(output)\n",
    "        # 4. view를 통해서 배치 차원 제거\n",
    "        # 크기 변화 : (배치 크기, 시퀸스 길이, 단어장 크기) => (배치 크기*시퀸스 길이, 단어장 크기)\n",
    "        return output.view(-1, output.size(2))"
   ]
  },
  {
   "cell_type": "code",
   "execution_count": 12,
   "id": "60fbd90d",
   "metadata": {},
   "outputs": [],
   "source": [
    "# 하이퍼 파라미터\n",
    "vocab_size = len(word2index)  # 단어장의 크기는 임베딩 층, 최종 출력층에 사용 // unk 토큰을 크기에 포함\n",
    "input_size = 5 # 임베딩 된 차원으 크기 및 RNN 층 입력 차원의 크기 5\n",
    "hidden_size = 20 # RNN 은닉층 크기 20"
   ]
  },
  {
   "cell_type": "code",
   "execution_count": 13,
   "id": "bb781e54",
   "metadata": {},
   "outputs": [],
   "source": [
    "# 모델 생성\n",
    "model = Net(vocab_size, input_size, hidden_size, batch_first=True)\n",
    "\n",
    "# 손실 함수 정의\n",
    "loss_function = nn.CrossEntropyLoss() # 소프트맥스 함수 포함이며 실제 값은 원-핫 인코딩 안해도 됨\n",
    "\n",
    "# 옵티마이저 정의\n",
    "optimizer = optim.Adam(params=model.parameters())"
   ]
  },
  {
   "cell_type": "code",
   "execution_count": 14,
   "id": "84df77b9",
   "metadata": {},
   "outputs": [
    {
     "name": "stdout",
     "output_type": "stream",
     "text": [
      "tensor([[-0.0504, -0.0210, -0.0638, -0.0544, -0.0907,  0.0745,  0.2469, -0.0269],\n",
      "        [-0.0683, -0.1977, -0.0609, -0.1113, -0.0045,  0.2532,  0.1841, -0.0450],\n",
      "        [-0.0396, -0.1596, -0.1126, -0.0604,  0.0013,  0.2629,  0.2141,  0.0188],\n",
      "        [-0.3039,  0.1228,  0.1537,  0.1477, -0.0006, -0.3376,  0.5612,  0.0191],\n",
      "        [-0.1026, -0.2360,  0.1603,  0.1062, -0.0864,  0.1427,  0.0903, -0.0942],\n",
      "        [-0.2135, -0.0471,  0.2249,  0.1795, -0.1239, -0.1268, -0.0963, -0.1290]],\n",
      "       grad_fn=<ViewBackward0>)\n"
     ]
    }
   ],
   "source": [
    "# 모델에 입력을 넣어 출력 확인\n",
    "output = model(X)\n",
    "print(output)"
   ]
  },
  {
   "cell_type": "code",
   "execution_count": 15,
   "id": "856e85e3",
   "metadata": {},
   "outputs": [
    {
     "name": "stdout",
     "output_type": "stream",
     "text": [
      "torch.Size([6, 8])\n"
     ]
    }
   ],
   "source": [
    "# 예측 값의 크기는 (6, 8)\n",
    "print(output.shape)"
   ]
  },
  {
   "cell_type": "code",
   "execution_count": 16,
   "id": "4b83b6fe",
   "metadata": {},
   "outputs": [],
   "source": [
    "# 모델 훈련 전에 예측을 제대로 하고 있는지 예측된 정수 시퀸스로 바꾸는 decode 함수 생성\n",
    "decode = lambda y: [index2word.get(x) for x in y]"
   ]
  },
  {
   "cell_type": "code",
   "execution_count": 17,
   "id": "2ffab868",
   "metadata": {},
   "outputs": [
    {
     "name": "stdout",
     "output_type": "stream",
     "text": [
      "[01/201]2.098062\n",
      "Repeat medicine memory memory medicine best best\n",
      "\n",
      "[41/201]1.663813\n",
      "Repeat medicine the memory medicine for memory\n",
      "\n",
      "[81/201]1.125715\n",
      "Repeat is the best medicine for memory\n",
      "\n",
      "[121/201]0.557082\n",
      "Repeat is the best medicine for memory\n",
      "\n",
      "[161/201]0.255167\n",
      "Repeat is the best medicine for memory\n",
      "\n",
      "[201/201]0.139648\n",
      "Repeat is the best medicine for memory\n",
      "\n"
     ]
    }
   ],
   "source": [
    "# 훈련 시작 에포크 200\n",
    "for step in range(201):\n",
    "    #경사 초기화\n",
    "    optimizer.zero_grad()\n",
    "    # 순방향 전파\n",
    "    output = model(X)\n",
    "    # 손실값 계산\n",
    "    loss = loss_function(output, Y.view(-1))\n",
    "    # 역방향 전파\n",
    "    loss.backward()\n",
    "    # 매개변수 업데이트\n",
    "    optimizer.step()\n",
    "    # 기록\n",
    "    if step % 40 == 0:\n",
    "        print(\"[{:02d}/201]{:4f}\".format(step+1, loss))\n",
    "        pred = output.softmax(-1).argmax(-1).tolist()\n",
    "        print(\" \".join([\"Repeat\"] + decode(pred)))\n",
    "        print()"
   ]
  },
  {
   "cell_type": "code",
   "execution_count": null,
   "id": "5d7e477b",
   "metadata": {},
   "outputs": [],
   "source": []
  }
 ],
 "metadata": {
  "kernelspec": {
   "display_name": "Python 3 (ipykernel)",
   "language": "python",
   "name": "python3"
  },
  "language_info": {
   "codemirror_mode": {
    "name": "ipython",
    "version": 3
   },
   "file_extension": ".py",
   "mimetype": "text/x-python",
   "name": "python",
   "nbconvert_exporter": "python",
   "pygments_lexer": "ipython3",
   "version": "3.9.12"
  }
 },
 "nbformat": 4,
 "nbformat_minor": 5
}
