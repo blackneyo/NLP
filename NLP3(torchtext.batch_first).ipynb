{
 "cells": [
  {
   "cell_type": "code",
   "execution_count": 1,
   "id": "d9145d21",
   "metadata": {},
   "outputs": [],
   "source": [
    "import urllib.request\n",
    "import pandas as pd"
   ]
  },
  {
   "cell_type": "code",
   "execution_count": 2,
   "id": "d58f6aee",
   "metadata": {},
   "outputs": [
    {
     "data": {
      "text/plain": [
       "('IMDb_Reviews.csv', <http.client.HTTPMessage at 0x22fe44f6460>)"
      ]
     },
     "execution_count": 2,
     "metadata": {},
     "output_type": "execute_result"
    }
   ],
   "source": [
    "urllib.request.urlretrieve(\"https://raw.githubusercontent.com/LawrenceDuan/IMDb-Review-Analysis/master/IMDb_Reviews.csv\", filename=\"IMDb_Reviews.csv\")"
   ]
  },
  {
   "cell_type": "code",
   "execution_count": 3,
   "id": "4f4a18d9",
   "metadata": {},
   "outputs": [],
   "source": [
    "df = pd.read_csv('IMDb_Reviews.csv', encoding='latin1')"
   ]
  },
  {
   "cell_type": "code",
   "execution_count": 4,
   "id": "941ad5b1",
   "metadata": {},
   "outputs": [
    {
     "name": "stdout",
     "output_type": "stream",
     "text": [
      "전체 샘플의 개수 : 50000\n"
     ]
    }
   ],
   "source": [
    "print('전체 샘플의 개수 : {}'.format(len(df)))"
   ]
  },
  {
   "cell_type": "code",
   "execution_count": 8,
   "id": "59b7cdb7",
   "metadata": {},
   "outputs": [],
   "source": [
    "train_df = df[:25000]\n",
    "test_df = df[25000:]"
   ]
  },
  {
   "cell_type": "code",
   "execution_count": 9,
   "id": "e8492599",
   "metadata": {},
   "outputs": [],
   "source": [
    "from torchtext.legacy import data # torchtext.data 임포트\n",
    "\n",
    "# 필드 정의\n",
    "TEXT = data.Field(sequential=True,\n",
    "                  use_vocab=True,\n",
    "                  tokenize=str.split,\n",
    "                  lower=True,\n",
    "                  batch_first=True, # <=True\n",
    "                  fix_length=20)\n",
    "\n",
    "LABEL = data.Field(sequential=False,\n",
    "                   use_vocab=False,\n",
    "                   batch_first=False,\n",
    "                   is_target=True)\n",
    "\n",
    "# batch_first : 미니배치 차원을 맨 앞으로"
   ]
  },
  {
   "cell_type": "code",
   "execution_count": 10,
   "id": "12cdebb7",
   "metadata": {},
   "outputs": [],
   "source": [
    "from torchtext.legacy.data import TabularDataset\n",
    "from torchtext.legacy.data import Iterator\n",
    "\n",
    "# 토큰화 수행\n",
    "train_data, test_data = TabularDataset.splits(\n",
    "        path='.', train='train_data.csv', test='test_data.csv', format='csv',\n",
    "        fields=[('text', TEXT), ('label', LABEL)], skip_header=True)\n",
    "\n",
    "# 단어집합 생성\n",
    "TEXT.build_vocab(train_data, min_freq=10, max_size=10000) \n",
    "\n",
    "# 배치 크기 : 5\n",
    "batch_size = 5\n",
    "train_loader = Iterator(dataset=train_data, batch_size = batch_size)\n",
    "batch = next(iter(train_loader)) # 첫번째 미니배치"
   ]
  },
  {
   "cell_type": "code",
   "execution_count": 11,
   "id": "398f7d57",
   "metadata": {},
   "outputs": [
    {
     "name": "stdout",
     "output_type": "stream",
     "text": [
      "tensor([[  50,    9,   82,  202,   10,   20,  154,    8,    2,  769,    5,    0,\n",
      "            0,    9,  144,   37,  112,    9,  196,   11],\n",
      "        [  10,    7,   32,  733,    5,   48,   25,  433,    0,   54,  616,    3,\n",
      "           56, 2576,  118,   11, 1111,   36,    2,    0],\n",
      "        [   9, 5103,  546,    0,    0,    5,   10,  131,  386,  182, 1967,    4,\n",
      "         1374,    8,  113,   17,  112,   11,  921,    0],\n",
      "        [  50,  100,   89,  141,   43,    2,    0,   20,  186,  124,    0,   33,\n",
      "         2115,    6,  141,   12,   42, 2334,   92,   20],\n",
      "        [   0,    0,    7,  140,    5,    3, 1874,  401,    0,  391,    2,  313,\n",
      "           16,   10, 1718,    8,    2,  236,    5,   81]])\n"
     ]
    }
   ],
   "source": [
    "print(batch.text)\n",
    "'''\n",
    "배치크기가 5이기에 5개 샘플 출력\n",
    "각 샘플 길이는 20\n",
    "'''"
   ]
  },
  {
   "cell_type": "code",
   "execution_count": 12,
   "id": "60e718aa",
   "metadata": {},
   "outputs": [
    {
     "name": "stdout",
     "output_type": "stream",
     "text": [
      "torch.Size([5, 20])\n"
     ]
    }
   ],
   "source": [
    "print(batch.text.shape)"
   ]
  },
  {
   "cell_type": "code",
   "execution_count": null,
   "id": "34348229",
   "metadata": {},
   "outputs": [],
   "source": []
  }
 ],
 "metadata": {
  "kernelspec": {
   "display_name": "Python 3 (ipykernel)",
   "language": "python",
   "name": "python3"
  },
  "language_info": {
   "codemirror_mode": {
    "name": "ipython",
    "version": 3
   },
   "file_extension": ".py",
   "mimetype": "text/x-python",
   "name": "python",
   "nbconvert_exporter": "python",
   "pygments_lexer": "ipython3",
   "version": "3.8.13"
  }
 },
 "nbformat": 4,
 "nbformat_minor": 5
}
