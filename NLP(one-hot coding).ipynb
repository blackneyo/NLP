{
 "cells": [
  {
   "cell_type": "code",
   "execution_count": 1,
   "id": "e1c1622a",
   "metadata": {},
   "outputs": [
    {
     "name": "stdout",
     "output_type": "stream",
     "text": [
      "['나', '는', '자연어', '처리', '를', '배운다']\n"
     ]
    }
   ],
   "source": [
    "'''\n",
    "벡터 또는 행렬(matrix)의 값이 대부분 0으로 표현되는 방법을 희소 표현(sparse representation)이라 함\n",
    "원-핫 벡터는 희소 벡터 (sparse vector)\n",
    "단어의 갯수가 늘어나면 벡터의 차원이 한없이 커진다\n",
    "\n",
    "원-핫 인코딩 : 단어 집합의 큭를 벡터으 차원으로 하고 표현하고 싶은 단어의 인덱스에 1의 값 부여\n",
    "               다른 인덱스에는 0을 부여하는 단어의 벡터 표편 방식\n",
    "               \n",
    "원-핫 인코딩 과정\n",
    "1. 각 단어에 고유한 인덱스 부여(정수 인코딩)\n",
    "2. 표현하고 싶은 단어의 인덱스의 위치에 1을 부여하고 다른 단어의 인덱스 위치에 0 부여\n",
    "'''\n",
    "from konlpy.tag import Okt  \n",
    "okt = Okt()  \n",
    "token = okt.morphs(\"나는 자연어 처리를 배운다\")  \n",
    "print(token)"
   ]
  },
  {
   "cell_type": "code",
   "execution_count": 3,
   "id": "6e04180f",
   "metadata": {},
   "outputs": [
    {
     "name": "stdout",
     "output_type": "stream",
     "text": [
      "{'나': 0, '는': 1, '자연어': 2, '처리': 3, '를': 4, '배운다': 5}\n"
     ]
    }
   ],
   "source": [
    "# konlpy의 Okt 형태소 분석기를 통해 문장 토큰화 \n",
    "word2index = {}\n",
    "for voca in token:\n",
    "    if voca not in word2index.keys():\n",
    "        word2index[voca] = len(word2index)\n",
    "print(word2index)"
   ]
  },
  {
   "cell_type": "code",
   "execution_count": 4,
   "id": "f69df295",
   "metadata": {},
   "outputs": [],
   "source": [
    "# 토큰을 입력하면 해당 토큰에 대한 원-핫 백터를 만들어내는 함수 생성\n",
    "def one_hot_encoding(word, word2index):\n",
    "    one_hot_vector = [0]*(len(word2index))\n",
    "    index = word2index[word]\n",
    "    one_hot_vector[index] = 1\n",
    "    return one_hot_vector"
   ]
  },
  {
   "cell_type": "code",
   "execution_count": 5,
   "id": "5c8b0786",
   "metadata": {},
   "outputs": [
    {
     "data": {
      "text/plain": [
       "[0, 0, 1, 0, 0, 0]"
      ]
     },
     "execution_count": 5,
     "metadata": {},
     "output_type": "execute_result"
    }
   ],
   "source": [
    "one_hot_encoding(\"자연어\", word2index)"
   ]
  },
  {
   "cell_type": "code",
   "execution_count": null,
   "id": "fd5fedde",
   "metadata": {},
   "outputs": [],
   "source": []
  }
 ],
 "metadata": {
  "kernelspec": {
   "display_name": "Python 3 (ipykernel)",
   "language": "python",
   "name": "python3"
  },
  "language_info": {
   "codemirror_mode": {
    "name": "ipython",
    "version": 3
   },
   "file_extension": ".py",
   "mimetype": "text/x-python",
   "name": "python",
   "nbconvert_exporter": "python",
   "pygments_lexer": "ipython3",
   "version": "3.8.13"
  }
 },
 "nbformat": 4,
 "nbformat_minor": 5
}
