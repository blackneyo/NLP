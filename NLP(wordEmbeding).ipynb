{
 "cells": [
  {
   "cell_type": "code",
   "execution_count": 1,
   "id": "35a9fa88",
   "metadata": {},
   "outputs": [],
   "source": [
    "'''\n",
    "word Embeding : 단어를 백터로 표현 // 단어를 밀집 표현으로 변환하는 방법을 말함\n",
    "'''\n",
    "import torch"
   ]
  },
  {
   "cell_type": "code",
   "execution_count": 2,
   "id": "aa7f9cb2",
   "metadata": {},
   "outputs": [],
   "source": [
    "# 원-핫 벡터 생성\n",
    "\n",
    "dog = torch.FloatTensor([1, 0, 0, 0, 0])\n",
    "cat = torch.FloatTensor([0, 1, 0, 0, 0])\n",
    "computer = torch.FloatTensor([0, 0, 1, 0, 0])\n",
    "netbook = torch.FloatTensor([0, 0, 0, 1, 0])\n",
    "book = torch.FloatTensor([0, 0, 0, 0, 1])"
   ]
  },
  {
   "cell_type": "code",
   "execution_count": 3,
   "id": "bcfb22f9",
   "metadata": {},
   "outputs": [
    {
     "name": "stdout",
     "output_type": "stream",
     "text": [
      "tensor(0.)\n",
      "tensor(0.)\n",
      "tensor(0.)\n",
      "tensor(0.)\n"
     ]
    }
   ],
   "source": [
    "# 원 핫 백터간 코사인 유사도\n",
    "\n",
    "print(torch.cosine_similarity(dog, cat, dim=0))\n",
    "print(torch.cosine_similarity(cat, computer, dim=0))\n",
    "print(torch.cosine_similarity(computer, netbook, dim=0))\n",
    "print(torch.cosine_similarity(netbook, book, dim=0))\n",
    "'''\n",
    "전부 유사도가 0으로 나오는 것으로 보아\n",
    "단어간 유사도를 반영할 수 없음\n",
    "매우 치명적\n",
    "'''"
   ]
  },
  {
   "cell_type": "code",
   "execution_count": null,
   "id": "9d7a7ae6",
   "metadata": {},
   "outputs": [],
   "source": [
    "# 밀집 표현 : 백터의 차원을 단어 집합의 크기로 상정하지 않음\n",
    "# 사용자가 설정한 값으로 모든 단어의 배터 표현의 차원을 맞춤\n",
    "# 단어를 밀집 벡터(dense vector)의 형태로 표현하는 방법을 워드 인베딩(word enbedding)\n",
    "# 워드 인베딩(word embedding) : LSA, Word2Vec, FastText, Glove"
   ]
  }
 ],
 "metadata": {
  "kernelspec": {
   "display_name": "Python 3 (ipykernel)",
   "language": "python",
   "name": "python3"
  },
  "language_info": {
   "codemirror_mode": {
    "name": "ipython",
    "version": 3
   },
   "file_extension": ".py",
   "mimetype": "text/x-python",
   "name": "python",
   "nbconvert_exporter": "python",
   "pygments_lexer": "ipython3",
   "version": "3.8.13"
  }
 },
 "nbformat": 4,
 "nbformat_minor": 5
}
