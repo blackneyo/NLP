{
 "cells": [
  {
   "cell_type": "code",
   "execution_count": 2,
   "id": "086f8891",
   "metadata": {},
   "outputs": [],
   "source": [
    "# 파이토치(PyTorch)의 nn.Embedding()\n",
    "'''\n",
    "임베딩 층(embedding layer) 을 만들어\n",
    "처음부터 임베딩 벡터를 학습하는 방법과\n",
    "사전 훈련된 힘베딩 벡터(pre-trained word embedding)들을 가져와 사용하는 방법\n",
    "'''\n",
    "import torch"
   ]
  },
  {
   "cell_type": "code",
   "execution_count": 3,
   "id": "bf220bfa",
   "metadata": {},
   "outputs": [
    {
     "name": "stdout",
     "output_type": "stream",
     "text": [
      "{'to': 2, 'you': 3, 'code': 4, 'need': 5, 'how': 6, 'know': 7, '<unk>': 0, '<pad>': 1}\n"
     ]
    }
   ],
   "source": [
    "train_data = 'you need to know how to code'\n",
    "\n",
    "# 중복을 제거한 단어들의 집합인 단어 집합 생성.\n",
    "word_set = set(train_data.split())\n",
    "\n",
    "# 단어 집합의 각 단어에 고유한 정수 맵핑.\n",
    "vocab = {word: i+2 for i, word in enumerate(word_set)}\n",
    "vocab['<unk>'] = 0\n",
    "vocab['<pad>'] = 1\n",
    "print(vocab)"
   ]
  },
  {
   "cell_type": "code",
   "execution_count": 4,
   "id": "308c569e",
   "metadata": {},
   "outputs": [],
   "source": [
    "# 단어 집합의 크기만큼의 행을 가지는 테이블 생성.\n",
    "embedding_table = torch.FloatTensor([\n",
    "                               [ 0.0,  0.0,  0.0],\n",
    "                               [ 0.0,  0.0,  0.0],\n",
    "                               [ 0.2,  0.9,  0.3],\n",
    "                               [ 0.1,  0.5,  0.7],\n",
    "                               [ 0.2,  0.1,  0.8],\n",
    "                               [ 0.4,  0.1,  0.1],\n",
    "                               [ 0.1,  0.8,  0.9],\n",
    "                               [ 0.6,  0.1,  0.1]])"
   ]
  },
  {
   "cell_type": "code",
   "execution_count": 5,
   "id": "542714e0",
   "metadata": {},
   "outputs": [
    {
     "name": "stdout",
     "output_type": "stream",
     "text": [
      "tensor([[0.1000, 0.5000, 0.7000],\n",
      "        [0.4000, 0.1000, 0.1000],\n",
      "        [0.2000, 0.9000, 0.3000],\n",
      "        [0.0000, 0.0000, 0.0000]])\n"
     ]
    }
   ],
   "source": [
    "sample = 'you need to run'.split()\n",
    "idxes = []\n",
    "\n",
    "# 각 단어를 정수로 변환\n",
    "for word in sample:\n",
    "  try:\n",
    "    idxes.append(vocab[word])\n",
    "  # 단어 집합에 없는 단어일 경우 <unk>로 대체된다.\n",
    "  except KeyError:\n",
    "    idxes.append(vocab['<unk>'])\n",
    "idxes = torch.LongTensor(idxes)\n",
    "\n",
    "# 각 정수를 인덱스로 임베딩 테이블에서 값을 가져온다.\n",
    "lookup_result = embedding_table[idxes, :]\n",
    "print(lookup_result)"
   ]
  },
  {
   "cell_type": "code",
   "execution_count": 6,
   "id": "b8bcffb8",
   "metadata": {},
   "outputs": [],
   "source": [
    "# nn.Embedding 층 사용\n",
    "train_data = 'you need to know how to code'\n",
    "\n",
    "# 중복을 제거한 단어들의 집합인 단어 집합 생성.\n",
    "word_set = set(train_data.split())\n",
    "\n",
    "# 단어 집합의 각 단어에 고유한 정수 맵핑.\n",
    "vocab = {tkn: i+2 for i, tkn in enumerate(word_set)}\n",
    "vocab['<unk>'] = 0\n",
    "vocab['<pad>'] = 1"
   ]
  },
  {
   "cell_type": "code",
   "execution_count": 7,
   "id": "8ebf8980",
   "metadata": {},
   "outputs": [],
   "source": [
    "import torch.nn as nn\n",
    "embedding_layer = nn.Embedding(num_embeddings=len(vocab), \n",
    "                               embedding_dim=3,\n",
    "                               padding_idx=1)"
   ]
  },
  {
   "cell_type": "code",
   "execution_count": 8,
   "id": "e2d39e0e",
   "metadata": {},
   "outputs": [
    {
     "name": "stdout",
     "output_type": "stream",
     "text": [
      "Parameter containing:\n",
      "tensor([[ 0.4579, -0.4055,  0.3977],\n",
      "        [ 0.0000,  0.0000,  0.0000],\n",
      "        [ 0.3117, -0.1965, -1.1869],\n",
      "        [-0.5112,  0.0254, -1.1956],\n",
      "        [-0.9882, -0.1086,  0.5553],\n",
      "        [ 0.2144,  1.4493, -0.0146],\n",
      "        [-0.5954, -0.7403, -1.1634],\n",
      "        [-1.6322, -0.6298, -0.1653]], requires_grad=True)\n"
     ]
    }
   ],
   "source": [
    "# num_embeddings : 임베딩 할 단어의 개수/ 단어 집합의 크기\n",
    "# embedding_dim : 임베딩 할 벡터의 차원 / 하이퍼파라미터\n",
    "# padding_idx : 선택적으로 사용하는 인자 / 패딩을 위한 토큰의 인덱스\n",
    "print(embedding_layer.weight)"
   ]
  },
  {
   "cell_type": "code",
   "execution_count": null,
   "id": "37610b3f",
   "metadata": {},
   "outputs": [],
   "source": []
  }
 ],
 "metadata": {
  "kernelspec": {
   "display_name": "Python 3 (ipykernel)",
   "language": "python",
   "name": "python3"
  },
  "language_info": {
   "codemirror_mode": {
    "name": "ipython",
    "version": 3
   },
   "file_extension": ".py",
   "mimetype": "text/x-python",
   "name": "python",
   "nbconvert_exporter": "python",
   "pygments_lexer": "ipython3",
   "version": "3.8.13"
  }
 },
 "nbformat": 4,
 "nbformat_minor": 5
}
