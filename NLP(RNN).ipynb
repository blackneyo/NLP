{
 "cells": [
  {
   "cell_type": "code",
   "execution_count": 1,
   "id": "b872edb9",
   "metadata": {},
   "outputs": [],
   "source": [
    "# 순환 신경망 (Recurrent Neural Network, RNN) 은 Sequence 모델\n",
    "# 입력과 출력을 시퀸스 단위로 처리하는 모델\n",
    "import numpy as np\n",
    "\n",
    "timesteps = 10 # 시점의 수, NLP에서는 문장의 길이\n",
    "input_size = 4 # 입력의 차원 NLP에서는 단어 백터의 차원 \n",
    "hidden_size = 8 # 은닉 상태의 크기 / 메모리 셀의 용량\n",
    "\n",
    "inputs = np.random.random((timesteps, input_size)) # 입력에 해당되는 2D 텐서\n",
    "\n",
    "hidden_state_t = np.zeros((hidden_size,)) #초기 은닉 상태는 0(백터) 로 초기화\n",
    "# 은닉 상태의 크기 hidden_size로 은닉상태 만듬"
   ]
  },
  {
   "cell_type": "code",
   "execution_count": 2,
   "id": "32405637",
   "metadata": {},
   "outputs": [
    {
     "name": "stdout",
     "output_type": "stream",
     "text": [
      "[0. 0. 0. 0. 0. 0. 0. 0.]\n"
     ]
    }
   ],
   "source": [
    "print(hidden_state_t) # 8의 크기를 가지는 은닉 상태"
   ]
  },
  {
   "cell_type": "code",
   "execution_count": 3,
   "id": "2a1b6ce0",
   "metadata": {},
   "outputs": [],
   "source": [
    "Wx = np.random.random((hidden_size, input_size))  # (8, 4)크기의 2D 텐서 생성. 입력에 대한 가중치.\n",
    "Wh = np.random.random((hidden_size, hidden_size)) # (8, 8)크기의 2D 텐서 생성. 은닉 상태에 대한 가중치.\n",
    "b = np.random.random((hidden_size,)) # (8,)크기의 1D 텐서 생성. 이 값은 편향(bias)."
   ]
  },
  {
   "cell_type": "code",
   "execution_count": 4,
   "id": "7ecb0aec",
   "metadata": {},
   "outputs": [
    {
     "name": "stdout",
     "output_type": "stream",
     "text": [
      "(8, 4)\n",
      "(8, 8)\n",
      "(8,)\n"
     ]
    }
   ],
   "source": [
    "print(np.shape(Wx))\n",
    "print(np.shape(Wh))\n",
    "print(np.shape(b))"
   ]
  },
  {
   "cell_type": "code",
   "execution_count": 5,
   "id": "76c6138d",
   "metadata": {},
   "outputs": [
    {
     "name": "stdout",
     "output_type": "stream",
     "text": [
      "(1, 8)\n",
      "(2, 8)\n",
      "(3, 8)\n",
      "(4, 8)\n",
      "(5, 8)\n",
      "(6, 8)\n",
      "(7, 8)\n",
      "(8, 8)\n",
      "(9, 8)\n",
      "(10, 8)\n",
      "[[0.84034389 0.87848313 0.90775107 0.70302848 0.39004713 0.44382532\n",
      "  0.93380309 0.81347639]\n",
      " [0.99590355 0.9999752  0.99362042 0.99965563 0.99958798 0.99888213\n",
      "  0.99994756 0.99949426]\n",
      " [0.99832892 0.99999416 0.99734325 0.99993555 0.99978282 0.9998543\n",
      "  0.99997256 0.99973128]\n",
      " [0.99937824 0.99999878 0.99873239 0.99998716 0.9999511  0.99995469\n",
      "  0.99999519 0.9999633 ]\n",
      " [0.99926633 0.99999588 0.99887394 0.99996584 0.99994798 0.99988808\n",
      "  0.99998503 0.99988368]\n",
      " [0.99943439 0.999999   0.99864052 0.99999017 0.99997159 0.99997017\n",
      "  0.99999642 0.99997085]\n",
      " [0.99918059 0.99999455 0.99893327 0.99994098 0.99980041 0.99979284\n",
      "  0.99997642 0.99978266]\n",
      " [0.99693915 0.99999198 0.99605721 0.99993528 0.99989771 0.99982758\n",
      "  0.99996025 0.99978188]\n",
      " [0.99921627 0.9999983  0.99907859 0.99998611 0.99996178 0.99989551\n",
      "  0.99999236 0.99997453]\n",
      " [0.99941495 0.9999987  0.99896585 0.99998485 0.99991626 0.99993566\n",
      "  0.99999446 0.99995847]]\n"
     ]
    }
   ],
   "source": [
    "total_hidden_states = []\n",
    "\n",
    "# 메모리 셀 동작\n",
    "for input_t in inputs: # 각 시점에 따라서 입력값이 입력됨.\n",
    "  output_t = np.tanh(np.dot(Wx,input_t) + np.dot(Wh,hidden_state_t) + b) # Wx * Xt + Wh * Ht-1 + b(bias)\n",
    "  total_hidden_states.append(list(output_t)) # 각 시점의 은닉 상태의 값을 계속해서 축적\n",
    "  print(np.shape(total_hidden_states)) # 각 시점 t별 메모리 셀의 출력의 크기는 (timestep, output_dim)\n",
    "  hidden_state_t = output_t\n",
    "\n",
    "total_hidden_states = np.stack(total_hidden_states, axis = 0) \n",
    "# 출력 시 값을 깔끔하게 해준다.\n",
    "\n",
    "print(total_hidden_states) # (timesteps, output_dim)의 크기. 이 경우 (10, 8)의 크기를 가지는 메모리 셀의 2D 텐서를 출력."
   ]
  },
  {
   "cell_type": "code",
   "execution_count": null,
   "id": "d41487c7",
   "metadata": {},
   "outputs": [],
   "source": []
  }
 ],
 "metadata": {
  "kernelspec": {
   "display_name": "Python 3 (ipykernel)",
   "language": "python",
   "name": "python3"
  },
  "language_info": {
   "codemirror_mode": {
    "name": "ipython",
    "version": 3
   },
   "file_extension": ".py",
   "mimetype": "text/x-python",
   "name": "python",
   "nbconvert_exporter": "python",
   "pygments_lexer": "ipython3",
   "version": "3.8.13"
  }
 },
 "nbformat": 4,
 "nbformat_minor": 5
}
