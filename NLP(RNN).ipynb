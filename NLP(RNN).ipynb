{
 "cells": [
  {
   "cell_type": "code",
   "execution_count": null,
   "id": "33895826",
   "metadata": {},
   "outputs": [],
   "source": [
    "# 순환 신경망 (Recurrent Neural Network, RNN) 은 Sequence 모델\n",
    "# 입력과 출력을 시퀸스 단위로 처리하는 모델\n"
   ]
  }
 ],
 "metadata": {
  "kernelspec": {
   "display_name": "Python 3 (ipykernel)",
   "language": "python",
   "name": "python3"
  },
  "language_info": {
   "codemirror_mode": {
    "name": "ipython",
    "version": 3
   },
   "file_extension": ".py",
   "mimetype": "text/x-python",
   "name": "python",
   "nbconvert_exporter": "python",
   "pygments_lexer": "ipython3",
   "version": "3.8.13"
  }
 },
 "nbformat": 4,
 "nbformat_minor": 5
}
