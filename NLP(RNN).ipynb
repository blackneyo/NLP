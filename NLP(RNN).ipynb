{
 "cells": [
  {
   "cell_type": "code",
   "execution_count": null,
   "id": "f1c7292e",
   "metadata": {},
   "outputs": [],
   "source": [
    "# 순환 신경망 (Recurrent Neural Network, RNN) 은 Sequence 모델\n",
    "# 입력과 출력을 시퀸스 단위로 처리하는 모델\n",
    "import numpy as np\n",
    "\n",
    "timesteps = 10 # 시점의 수, NLP에서는 문장의 길이\n",
    "input_size = 4 # 입력의 차원 NLP에서는 단어 백터의 차원 \n",
    "hidden_size = 8 # 은닉 상태의 크기 / 메모리 셀의 용량\n",
    "\n",
    "inputs = np.random.random((timesteps, input_size)) # 입력에 해당되는 2D 텐서\n",
    "\n",
    "hidden_state_t = np.zeros((hidden_size,)) #초기 은닉 상태는 0(백터) 로 초기화\n",
    "# 은닉 상태의 크기 hidden_size로 은닉상태 만듬"
   ]
  }
 ],
 "metadata": {
  "kernelspec": {
   "display_name": "Python 3 (ipykernel)",
   "language": "python",
   "name": "python3"
  },
  "language_info": {
   "codemirror_mode": {
    "name": "ipython",
    "version": 3
   },
   "file_extension": ".py",
   "mimetype": "text/x-python",
   "name": "python",
   "nbconvert_exporter": "python",
   "pygments_lexer": "ipython3",
   "version": "3.8.13"
  }
 },
 "nbformat": 4,
 "nbformat_minor": 5
}
