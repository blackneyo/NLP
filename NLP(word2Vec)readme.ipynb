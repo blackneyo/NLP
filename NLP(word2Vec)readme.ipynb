{
 "cells": [
  {
   "cell_type": "code",
   "execution_count": 1,
   "id": "a35232d8",
   "metadata": {},
   "outputs": [],
   "source": [
    "#  분산 표현(distributed representation) : 단어의 '의미' 를 다차원 공간에 벡터화\n",
    "#  분산 표현을 이용한 단어 유사도를 벡터화 하는 작업을 워드 임베딩(embedding)이라 함\n",
    "#  표현된 벡터 또한 임베딩 벡터(embedding Vector)라고 하며, 저차원을 가지므로 바로 앞의 챕터에서 나온 밀집 벡터(dense vector)에도 속함"
   ]
  },
  {
   "cell_type": "code",
   "execution_count": 2,
   "id": "3de92057",
   "metadata": {},
   "outputs": [
    {
     "data": {
      "text/plain": [
       "'\\nCBow(Continuous Bag of Words)\\n\\n주변에 있는 단어들을 가지고 중간에 있는 단어들을 예측하는 방법\\n예문 : \"The fat cat sat on the mat\"\\nsat 을 중심 단어(center word)라고 하고, 예측에 사용되는 단어들을 주변단어(context word)라고 함\\n윈도우(window) 로 앞뒤로 몇개 단어 볼지 결정 ex) 2 라 하면 sat 앞 fat, cat 뒤 on, the \\n윈도우를 계속 움직여서 단어 선택을 바꿔가며 학습 데이터 셋 만드는 것을 슬라이딩 윈도우(Sliding window)\\n\\n'"
      ]
     },
     "execution_count": 2,
     "metadata": {},
     "output_type": "execute_result"
    }
   ],
   "source": [
    "'''\n",
    "CBow(Continuous Bag of Words)\n",
    "\n",
    "주변에 있는 단어들을 가지고 중간에 있는 단어들을 예측하는 방법\n",
    "예문 : \"The fat cat sat on the mat\"\n",
    "sat 을 중심 단어(center word)라고 하고, 예측에 사용되는 단어들을 주변단어(context word)라고 함\n",
    "윈도우(window) 로 앞뒤로 몇개 단어 볼지 결정 ex) 2 라 하면 sat 앞 fat, cat 뒤 on, the \n",
    "윈도우를 계속 움직여서 단어 선택을 바꿔가며 학습 데이터 셋 만드는 것을 슬라이딩 윈도우(Sliding window)\n",
    "\n",
    "'''"
   ]
  },
  {
   "cell_type": "code",
   "execution_count": null,
   "id": "10a3d232",
   "metadata": {},
   "outputs": [],
   "source": [
    "'''\n",
    "skip-gram\n",
    "'''"
   ]
  }
 ],
 "metadata": {
  "kernelspec": {
   "display_name": "Python 3 (ipykernel)",
   "language": "python",
   "name": "python3"
  },
  "language_info": {
   "codemirror_mode": {
    "name": "ipython",
    "version": 3
   },
   "file_extension": ".py",
   "mimetype": "text/x-python",
   "name": "python",
   "nbconvert_exporter": "python",
   "pygments_lexer": "ipython3",
   "version": "3.8.13"
  }
 },
 "nbformat": 4,
 "nbformat_minor": 5
}
